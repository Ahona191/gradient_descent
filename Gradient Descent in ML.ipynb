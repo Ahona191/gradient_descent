{
 "cells": [
  {
   "cell_type": "code",
   "execution_count": null,
   "id": "73af6376-6fd4-4f05-8fe5-88230ad11933",
   "metadata": {},
   "outputs": [],
   "source": [
    "import pandas as pd \n",
    "import numpy as np \n",
    "import matplotlib.pyplot as plt "
   ]
  },
  {
   "cell_type": "code",
   "execution_count": null,
   "id": "dde13a3b-4f0d-4f2c-813f-65b3774a4a6d",
   "metadata": {},
   "outputs": [],
   "source": [
    "df=pd.read_csv(\"home data.csv\") \n",
    "df.head()"
   ]
  },
  {
   "cell_type": "code",
   "execution_count": null,
   "id": "7ad0e337-1d09-4d30-a584-4a5bf6b9dd35",
   "metadata": {},
   "outputs": [],
   "source": [
    "df.shape"
   ]
  },
  {
   "cell_type": "code",
   "execution_count": null,
   "id": "dea864cb-3a2a-4540-af41-e3a5d4a8dee6",
   "metadata": {},
   "outputs": [],
   "source": [
    "# Scale x and y\n",
    "x = (x - x.mean()) / x.std()\n",
    "y = (y - y.mean()) / y.std()\n"
   ]
  },
  {
   "cell_type": "markdown",
   "id": "5b7371ca-49d3-4f2e-8c76-052e75c4e0d9",
   "metadata": {},
   "source": [
    "# **Gradient descent in Machine Learning**"
   ]
  },
  {
   "cell_type": "code",
   "execution_count": null,
   "id": "c3a2dc3b-6852-4c0b-96cc-b79426c4d869",
   "metadata": {},
   "outputs": [],
   "source": [
    "#first step \n",
    "m=0 \n",
    "c=0 \n",
    "Learning_rate=0.01 \n",
    "n=int(len(x))  \n",
    "\n",
    "iterations=1000\n",
    "\n",
    "#2nd step  \n",
    "for i in range(iterations):\n",
    "  y_prediction=m*x + c \n",
    "  derivatives_m=(-2/n)*sum(x*(y-y_prediction)) \n",
    "  derivatives_c=(-2/n)*sum(y-y_prediction) \n",
    "\n",
    "  #final step \n",
    "  m=m- Learning_rate*derivatives_m \n",
    "  c=c- Learning_rate*derivatives_c \n",
    "\n",
    "print(m,c)\n",
    "\n",
    "\n",
    "\n",
    "\n",
    "\n",
    "\n"
   ]
  },
  {
   "cell_type": "markdown",
   "id": "8593e7a0-0fd5-4d2b-b895-977529d515c0",
   "metadata": {},
   "source": [
    "# **Make Prediction**"
   ]
  },
  {
   "cell_type": "code",
   "execution_count": null,
   "id": "b50a9c79-c35e-4449-95df-9a5f144e06ea",
   "metadata": {},
   "outputs": [],
   "source": [
    "x = float(input('Enter any value of x: ')) \n",
    "y = 0.7662642801815609 * x + 6.348790040266114 \n",
    "print(\"Predicted y:\", y)\n"
   ]
  },
  {
   "cell_type": "code",
   "execution_count": null,
   "id": "667c5429-e37d-4bea-9673-90f480f0691a",
   "metadata": {},
   "outputs": [],
   "source": []
  }
 ],
 "metadata": {
  "kernelspec": {
   "display_name": "Python [conda env:base] *",
   "language": "python",
   "name": "conda-base-py"
  },
  "language_info": {
   "codemirror_mode": {
    "name": "ipython",
    "version": 3
   },
   "file_extension": ".py",
   "mimetype": "text/x-python",
   "name": "python",
   "nbconvert_exporter": "python",
   "pygments_lexer": "ipython3",
   "version": "3.12.7"
  }
 },
 "nbformat": 4,
 "nbformat_minor": 5
}
